{
 "cells": [
  {
   "cell_type": "code",
   "execution_count": 3,
   "id": "4a3c7f79-3b97-4e87-8cc3-cd1f95374d19",
   "metadata": {},
   "outputs": [
    {
     "name": "stdout",
     "output_type": "stream",
     "text": [
      "{\"prediction\":[\"Placed\"]}\n"
     ]
    }
   ],
   "source": [
    "import requests\n",
    "data = {\n",
    "  \"sl_no\": 112,\n",
    "  \"ssc_p\": 84.0,\n",
    "  \"hsc_p\": 90.9,\n",
    "  \"degree_p\": 64.5,\n",
    "  \"etest_p\": 86.04,\n",
    "  \"mba_p\": 59.42,\n",
    "  \"gender\": \"M\",\n",
    "  \"ssc_b\": \"Others\",\n",
    "  \"hsc_b\": \"Others\",\n",
    "  \"hsc_s\": \"Science\",\n",
    "  \"degree_t\": \"Sci&Tech\",\n",
    "  \"workex\": \"No\",\n",
    "  \"specialisation\": \"Mkt&Fin\"\n",
    "}\n",
    "response = requests.post(\"http://127.0.0.1:8000/predict\", json=data)\n",
    "print(response.text)"
   ]
  },
  {
   "cell_type": "code",
   "execution_count": 5,
   "id": "8af492b1-74db-4f04-9b59-1fad93a032e0",
   "metadata": {},
   "outputs": [
    {
     "name": "stdout",
     "output_type": "stream",
     "text": [
      "{\"prediction\":[\"Not Placed\"]}\n"
     ]
    }
   ],
   "source": [
    "data = {\n",
    "  \"sl_no\": 113,\n",
    "  \"ssc_p\": 52.0,\n",
    "  \"hsc_p\": 57.0,\n",
    "  \"degree_p\": 50.8,\n",
    "  \"etest_p\": 67.0,\n",
    "  \"mba_p\": 62.79,\n",
    "  \"gender\": \"M\",\n",
    "  \"ssc_b\": \"Central\",\n",
    "  \"hsc_b\": \"Central\",\n",
    "  \"hsc_s\": \"Commerce\",\n",
    "  \"degree_t\": \"Comm&Mgmt\",\n",
    "  \"workex\": \"No\",\n",
    "  \"specialisation\": \"Mkt&HR\"\n",
    "}\n",
    "response = requests.post(\"http://127.0.0.1:8000/predict\", json=data)\n",
    "print(response.text)"
   ]
  },
  {
   "cell_type": "code",
   "execution_count": null,
   "id": "9891da37-014c-4d99-8248-91d2208fcd54",
   "metadata": {},
   "outputs": [],
   "source": []
  }
 ],
 "metadata": {
  "kernelspec": {
   "display_name": "Python 3 (ipykernel)",
   "language": "python",
   "name": "python3"
  },
  "language_info": {
   "codemirror_mode": {
    "name": "ipython",
    "version": 3
   },
   "file_extension": ".py",
   "mimetype": "text/x-python",
   "name": "python",
   "nbconvert_exporter": "python",
   "pygments_lexer": "ipython3",
   "version": "3.12.5"
  }
 },
 "nbformat": 4,
 "nbformat_minor": 5
}
