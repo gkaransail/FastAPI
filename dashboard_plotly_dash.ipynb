{
 "cells": [
  {
   "cell_type": "code",
   "execution_count": 4,
   "id": "21d5f94c-9c1c-42e8-9bbd-daa16c75dbbf",
   "metadata": {},
   "outputs": [],
   "source": [
    "#pip install dash "
   ]
  },
  {
   "cell_type": "code",
   "execution_count": 5,
   "id": "08811633-a570-4425-a1bf-97ff7846059f",
   "metadata": {},
   "outputs": [],
   "source": [
    "#pip install dask"
   ]
  },
  {
   "cell_type": "code",
   "execution_count": 14,
   "id": "69634fbf-40be-488b-8a9b-e8ceb7a1ebe9",
   "metadata": {},
   "outputs": [],
   "source": [
    "#pip install dash-renderer"
   ]
  },
  {
   "cell_type": "code",
   "execution_count": 15,
   "id": "1b48f0a9-66ac-4f71-9e95-a5825bcf8e77",
   "metadata": {},
   "outputs": [],
   "source": [
    "#pip install dash_html_components\n"
   ]
  },
  {
   "cell_type": "code",
   "execution_count": 16,
   "id": "808d080a-6560-4a7a-b7cb-84749d0dde61",
   "metadata": {},
   "outputs": [],
   "source": [
    "#pip install dash_core_components"
   ]
  },
  {
   "cell_type": "code",
   "execution_count": 80,
   "id": "3e4a12b5-562a-4969-a521-750c05c2c90c",
   "metadata": {},
   "outputs": [],
   "source": [
    "import pandas as pd \n",
    "import dask.dataframe as dd \n",
    "import dash\n",
    "import dash_core_components as dcc\n",
    "import dash_html_components as html\n",
    "import numpy as np\n",
    "import plotly.graph_objs as go"
   ]
  },
  {
   "cell_type": "code",
   "execution_count": 46,
   "id": "10660708-bf5f-4703-8f73-63b76ea02a04",
   "metadata": {},
   "outputs": [],
   "source": [
    "app = dash.Dash()"
   ]
  },
  {
   "cell_type": "code",
   "execution_count": 47,
   "id": "b0039db8-f954-46bb-abdd-811b41b921b7",
   "metadata": {},
   "outputs": [],
   "source": [
    "#app.layout = [html.Div(children='Hello World')]"
   ]
  },
  {
   "cell_type": "markdown",
   "id": "c3517829-988e-43b8-9669-630e5e45dfa6",
   "metadata": {},
   "source": [
    "# app.layout = html.Div([\n",
    "    html.H1('Hello Dash'),\n",
    "    html.Div('hello')\n",
    "])"
   ]
  },
  {
   "cell_type": "code",
   "execution_count": 62,
   "id": "1aa1f008-372f-4ff1-a048-5876564f3a84",
   "metadata": {},
   "outputs": [],
   "source": [
    "app.layout = html.Div([\n",
    "    html.H1(children = 'Hello Dash !!',\n",
    "           style = {\n",
    "               'textAlign' : 'center',\n",
    "               'color':'#ff0000'\n",
    "           }\n",
    "           ),\n",
    "    html.Div(children = 'Dash - A Data product development framework from plotly',\n",
    "             style = {\n",
    "                 'textAlign' : 'center',\n",
    "                 'color' : '#456FBV'\n",
    "             }\n",
    "            ),\n",
    "    dcc.Graph(\n",
    "        id = 'sample-graph',\n",
    "        figure = {\n",
    "            'data': [\n",
    "                {'x' : [4,6,8], 'y' : [12,16,18],'type' : 'bar', 'name': 'First Chart'},\n",
    "                {'x' : [4,6,8], 'y' : [20,24,26],'type' : 'bar', 'name': 'Second Chart'}\n",
    "            ],\n",
    "            'layout' : {\n",
    "                'title' : 'Simple Bar Chart'\n",
    "            }\n",
    "        }\n",
    "    )\n",
    "                      \n",
    "])"
   ]
  },
  {
   "cell_type": "code",
   "execution_count": 63,
   "id": "fa03e457-f978-4670-8dd6-d529a419fb29",
   "metadata": {},
   "outputs": [
    {
     "data": {
      "text/html": [
       "\n",
       "        <iframe\n",
       "            width=\"100%\"\n",
       "            height=\"650\"\n",
       "            src=\"http://127.0.0.1:4050/\"\n",
       "            frameborder=\"0\"\n",
       "            allowfullscreen\n",
       "            \n",
       "        ></iframe>\n",
       "        "
      ],
      "text/plain": [
       "<IPython.lib.display.IFrame at 0x27093ae8b30>"
      ]
     },
     "metadata": {},
     "output_type": "display_data"
    }
   ],
   "source": [
    "if __name__ == '__main__':\n",
    "    app.run_server(port =4050)"
   ]
  },
  {
   "cell_type": "code",
   "execution_count": 68,
   "id": "b83daca6-7e96-4a6a-a686-205968ddc915",
   "metadata": {},
   "outputs": [],
   "source": [
    "app.layout = html.Div([\n",
    "    html.H1(children = 'Hello Dash !!',\n",
    "           style = {\n",
    "               'textAlign' : 'center',\n",
    "               'color':'#ff0000'\n",
    "           }\n",
    "           ),\n",
    "    html.Div(children = 'Dash - A Data product development framework from plotly',\n",
    "             style = {\n",
    "                 'textAlign' : 'center',\n",
    "                 'color' : '#456FBV'\n",
    "             }\n",
    "            ),\n",
    "    dcc.Graph(\n",
    "        id = 'sample-graph',\n",
    "        figure = {\n",
    "            'data': [\n",
    "                {'x' : [4,6,8], 'y' : [12,16,18],'type' : 'bar', 'name': 'First Chart'},\n",
    "                {'x' : [4,6,8], 'y' : [20,24,26],'type' : 'bar', 'name': 'Second Chart'}\n",
    "            ],\n",
    "            'layout' : {\n",
    "                'plot_bgcolor' : '#D3D3D3',\n",
    "                'paper_bgcolor' : '#D3D3D3',\n",
    "                'font' : {\n",
    "                    'color' : '#ff0000'},\n",
    "                'title' : 'Simple Bar Chart'\n",
    "            }\n",
    "        }\n",
    "    )\n",
    "                      \n",
    "])"
   ]
  },
  {
   "cell_type": "code",
   "execution_count": 69,
   "id": "9f5a2cc0-cf91-4564-8eae-ffb3751684d2",
   "metadata": {},
   "outputs": [
    {
     "data": {
      "text/html": [
       "\n",
       "        <iframe\n",
       "            width=\"100%\"\n",
       "            height=\"650\"\n",
       "            src=\"http://127.0.0.1:4050/\"\n",
       "            frameborder=\"0\"\n",
       "            allowfullscreen\n",
       "            \n",
       "        ></iframe>\n",
       "        "
      ],
      "text/plain": [
       "<IPython.lib.display.IFrame at 0x27094143e00>"
      ]
     },
     "metadata": {},
     "output_type": "display_data"
    }
   ],
   "source": [
    "if __name__ == '__main__':\n",
    "    app.run_server(port =4050)"
   ]
  },
  {
   "cell_type": "code",
   "execution_count": 70,
   "id": "34a3167a-2a1b-4adc-b672-92884cdec952",
   "metadata": {},
   "outputs": [],
   "source": [
    "colors = {\n",
    "    'text' : '#ff0000',\n",
    "    'plot_color' : '#D3D3D3',\n",
    "    'paper_color' : '#00FFFF'}"
   ]
  },
  {
   "cell_type": "code",
   "execution_count": 71,
   "id": "44f2ab15-357b-43ac-a307-fdf18a72a043",
   "metadata": {},
   "outputs": [
    {
     "data": {
      "text/html": [
       "\n",
       "        <iframe\n",
       "            width=\"100%\"\n",
       "            height=\"650\"\n",
       "            src=\"http://127.0.0.1:4050/\"\n",
       "            frameborder=\"0\"\n",
       "            allowfullscreen\n",
       "            \n",
       "        ></iframe>\n",
       "        "
      ],
      "text/plain": [
       "<IPython.lib.display.IFrame at 0x27094143620>"
      ]
     },
     "metadata": {},
     "output_type": "display_data"
    }
   ],
   "source": [
    "app.layout = html.Div([\n",
    "    html.H1(children = 'Hello Dash !!',\n",
    "           style = {\n",
    "               'textAlign' : 'center',\n",
    "               'color':'#ff0000'\n",
    "           }\n",
    "           ),\n",
    "    html.Div(children = 'Dash - A Data product development framework from plotly',\n",
    "             style = {\n",
    "                 'textAlign' : 'center',\n",
    "                 'color' : colors['text']\n",
    "             }\n",
    "            ),\n",
    "    dcc.Graph(\n",
    "        id = 'sample-graph',\n",
    "        figure = {\n",
    "            'data': [\n",
    "                {'x' : [4,6,8], 'y' : [12,16,18],'type' : 'bar', 'name': 'First Chart'},\n",
    "                {'x' : [4,6,8], 'y' : [20,24,26],'type' : 'bar', 'name': 'Second Chart'}\n",
    "            ],\n",
    "            'layout' : {\n",
    "                'plot_bgcolor' : colors['plot_color'],\n",
    "                'paper_bgcolor' : colors['paper_color'],\n",
    "                'font' : {\n",
    "                    'color' : '#ff0000'},\n",
    "                'title' : 'Simple Bar Chart'\n",
    "            }\n",
    "        }\n",
    "    )\n",
    "                      \n",
    "])\n",
    "\n",
    "\n",
    "if __name__ == '__main__':\n",
    "    app.run_server(port =4050)"
   ]
  },
  {
   "cell_type": "code",
   "execution_count": 77,
   "id": "7b24b3cd-36bb-4b2a-808f-9b27d9af286e",
   "metadata": {},
   "outputs": [],
   "source": [
    "np.random.seed(50)\n",
    "x_rand = np.random.randint(1,61,60)\n",
    "y_rand = np.random.randint(1,61,60) \n"
   ]
  },
  {
   "cell_type": "code",
   "execution_count": 83,
   "id": "ac2774b2-5ac1-4782-91c3-2779f1246567",
   "metadata": {},
   "outputs": [
    {
     "data": {
      "text/html": [
       "\n",
       "        <iframe\n",
       "            width=\"100%\"\n",
       "            height=\"650\"\n",
       "            src=\"http://127.0.0.1:4050/\"\n",
       "            frameborder=\"0\"\n",
       "            allowfullscreen\n",
       "            \n",
       "        ></iframe>\n",
       "        "
      ],
      "text/plain": [
       "<IPython.lib.display.IFrame at 0x27094098ef0>"
      ]
     },
     "metadata": {},
     "output_type": "display_data"
    }
   ],
   "source": [
    "app.layout = html.Div([\n",
    "    dcc.Graph(\n",
    "        id = 'scatter_chart',\n",
    "        figure = {\n",
    "            'data': [\n",
    "                go.Scatter(\n",
    "                x = x_rand,\n",
    "                y = y_rand,\n",
    "                mode = 'markers')\n",
    "            ],\n",
    "            'layout' : go.Layout(\n",
    "                title = 'scatterplot',\n",
    "                xaxis = {'title': 'Random X Values'},\n",
    "                yaxis = {'title': 'Random Y Values'} )            }\n",
    "        \n",
    "    )\n",
    "                      \n",
    "])\n",
    "\n",
    "\n",
    "if __name__ == '__main__':\n",
    "    app.run_server(port =4050)"
   ]
  },
  {
   "cell_type": "code",
   "execution_count": 95,
   "id": "d9efba31-08a5-4a80-ad61-60b97ba7f5a7",
   "metadata": {},
   "outputs": [
    {
     "data": {
      "text/html": [
       "\n",
       "        <iframe\n",
       "            width=\"100%\"\n",
       "            height=\"650\"\n",
       "            src=\"http://127.0.0.1:4050/\"\n",
       "            frameborder=\"0\"\n",
       "            allowfullscreen\n",
       "            \n",
       "        ></iframe>\n",
       "        "
      ],
      "text/plain": [
       "<IPython.lib.display.IFrame at 0x270940bf920>"
      ]
     },
     "metadata": {},
     "output_type": "display_data"
    }
   ],
   "source": [
    "app.layout = html.Div([\n",
    "    html.Label('Choose a City'),\n",
    "    dcc.Dropdown(\n",
    "        id = 'first-dropdown',\n",
    "        options = [\n",
    "            {'label':'San Fracisco', 'value' : 'SF'},\n",
    "            {'label':'New York City', 'value' : 'NYC'},\n",
    "            {'label':'Raleigh Durham', 'value' : 'RDU'}\n",
    "        ],\n",
    "        value = 'NYC',\n",
    "        multi = True\n",
    "        \n",
    "    ),\n",
    "    html.Label('This is a slider'),\n",
    "    dcc.Slider(\n",
    "        min = 1, \n",
    "        max = 10, \n",
    "        value = 5, \n",
    "        step = 0.5,\n",
    "        marks = {i :i for i in range(10)}\n",
    "    ),\n",
    "    html.Label('This is a range slider'),\n",
    "    dcc.RangeSlider(\n",
    "        min = 1, \n",
    "        max = 10, \n",
    "        step = 0.5,\n",
    "        value = [3,7], \n",
    "        marks = {i :i for i in range(10)}),\n",
    "\n",
    "    html.Br(),\n",
    "    html.Br(),\n",
    "    \n",
    "\n",
    "    html.Label('This is a input box'),\n",
    "    dcc.Input(\n",
    "        placeholder = 'Input your name',\n",
    "        type = 'text',\n",
    "        value = ''\n",
    "    )\n",
    "])\n",
    "\n",
    "\n",
    "if __name__ == '__main__':\n",
    "    app.run_server(port =4050)"
   ]
  },
  {
   "cell_type": "code",
   "execution_count": null,
   "id": "e006a278-6311-4f21-92c9-81d3377bedda",
   "metadata": {},
   "outputs": [],
   "source": []
  },
  {
   "cell_type": "code",
   "execution_count": null,
   "id": "72b6795d-a7d7-4370-aced-15dfc2ab2282",
   "metadata": {},
   "outputs": [],
   "source": []
  }
 ],
 "metadata": {
  "kernelspec": {
   "display_name": "Python 3 (ipykernel)",
   "language": "python",
   "name": "python3"
  },
  "language_info": {
   "codemirror_mode": {
    "name": "ipython",
    "version": 3
   },
   "file_extension": ".py",
   "mimetype": "text/x-python",
   "name": "python",
   "nbconvert_exporter": "python",
   "pygments_lexer": "ipython3",
   "version": "3.12.5"
  }
 },
 "nbformat": 4,
 "nbformat_minor": 5
}
